{
 "cells": [
  {
   "cell_type": "markdown",
   "metadata": {
    "toc": true
   },
   "source": [
    "<h1>Table of Contents<span class=\"tocSkip\"></span></h1>\n",
    "<div class=\"toc\"><ul class=\"toc-item\"></ul></div>"
   ]
  },
  {
   "cell_type": "code",
   "execution_count": 1,
   "metadata": {},
   "outputs": [
    {
     "name": "stderr",
     "output_type": "stream",
     "text": [
      "/usr/local/anaconda3/envs/besca/lib/python3.7/site-packages/anndata/_core/anndata.py:21: FutureWarning: pandas.core.index is deprecated and will be removed in a future version.  The public classes are available in the top-level namespace.\n",
      "  from pandas.core.index import RangeIndex\n",
      "/usr/local/anaconda3/envs/besca/lib/python3.7/site-packages/scanpy/api/__init__.py:6: FutureWarning: \n",
      "\n",
      "In a future version of Scanpy, `scanpy.api` will be removed.\n",
      "Simply use `import scanpy as sc` and `import scanpy.external as sce` instead.\n",
      "\n",
      "  FutureWarning,\n",
      "/usr/local/anaconda3/envs/besca/lib/python3.7/site-packages/sklearn/externals/six.py:31: FutureWarning:\n",
      "\n",
      "The module is deprecated in version 0.21 and will be removed in version 0.23 since we've dropped support for Python 2.7. Please rely on the official version of six (https://pypi.org/project/six/).\n",
      "\n"
     ]
    },
    {
     "name": "stdout",
     "output_type": "stream",
     "text": [
      "scanpy==1.4.6 anndata==0.7.1 umap==0.3.10 numpy==1.18.2 scipy==1.4.1 pandas==1.0.3 scikit-learn==0.22.2.post1 statsmodels==0.11.1 python-igraph==0.8.0 louvain==0.6.1\n"
     ]
    }
   ],
   "source": [
    "#load relevant packages\n",
    "import scanpy as sc\n",
    "import seaborn as sns\n",
    "import matplotlib.pyplot as plt\n",
    "import numpy as np\n",
    "import sys\n",
    "import os\n",
    "import pandas as pd\n",
    "import besca as bc\n",
    "\n",
    "#setup document\n",
    "sc.settings.verbosity = 3  # verbosity: errors (0), warnings (1), info (2), hints (3)\n",
    "sc.settings.set_figure_params(dpi=90)  # low dpi (dots per inch) yields small inline figures\n",
    "sc.logging.print_versions()\n",
    "\n",
    "sc.settings.figdir = './results/'\n",
    "sns.set_style('ticks')\n",
    "plt.rcParams['image.cmap']='viridis'\n",
    "plt.rcParams['svg.fonttype'] = 'none'"
   ]
  },
  {
   "cell_type": "code",
   "execution_count": 2,
   "metadata": {},
   "outputs": [
    {
     "name": "stdout",
     "output_type": "stream",
     "text": [
      "reading matrix.mtx\n",
      "... reading from cache file cache/extracted_data-gene_expression-matrix.h5ad\n",
      "adding genes\n",
      "adding cell barcodes\n",
      "making var_names unique\n",
      "adding annotation\n",
      "reading matrix.mtx\n",
      "... reading from cache file cache/extracted_data-CITEseq-matrix.h5ad\n",
      "adding genes\n",
      "adding cell barcodes\n",
      "making var_names unique\n",
      "adding annotation\n"
     ]
    }
   ],
   "source": [
    "#import gene expression data\n",
    "adata_gex = bc.Import.read_mtx('extracted_data/gene_expression/')\n",
    "\n",
    "#import CITEseq\n",
    "adata_CITEseq = bc.Import.read_mtx('extracted_data/CITEseq/')"
   ]
  },
  {
   "cell_type": "code",
   "execution_count": 3,
   "metadata": {},
   "outputs": [],
   "source": [
    "adata_gex.obs = pd.read_csv('extracted_data/gene_expression/metadata.tsv', sep = '\\t')"
   ]
  },
  {
   "cell_type": "code",
   "execution_count": 4,
   "metadata": {},
   "outputs": [],
   "source": [
    "#reformat adata.var to match proper settings for 10X generated CITEseq data\n",
    "adata_gex.obs = adata_gex.obs.drop(columns = ['orig.ident', 'dmx_hto_match', 'joint_classification_global', 'DMX_GLOBAL_BEST', 'hto_classification_global', 'nGene', 'nUMI', 'pctMT'])\n",
    "adata_gex.obs['CELL'] = ['10X_CiteSeq_donor' + str(x) +'.'+ str(y) for x,y in zip(adata_gex.obs.get('sampleid'), adata_gex.obs.get('DEMUXLET.BARCODE'))]\n",
    "adata_gex.obs['CONDITION'] = 'PBMC_healthy'\n",
    "adata_gex.obs['sample_type'] = 'PBMC'\n",
    "adata_gex.obs['donor'] = ['donor' + str(x) for x in adata_gex.obs.get('sampleid')]\n",
    "adata_gex.obs = adata_gex.obs.get(['CELL', 'CONDITION', 'sample_type', 'donor', 'tenx_lane', 'cohort', 'batch', 'sampleid', 'timepoint'])\n",
    "adata_gex.obs_names = adata_gex.obs['CELL']\n",
    "\n",
    "#update cell barcodes to properly reflect annotation\n",
    "adata_gex.obs_names = adata_gex.obs['CELL']\n",
    "adata_gex.obs_names_make_unique() #make unique\n",
    "adata_gex.obs['CELL'] = adata_gex.obs_names #write back to obs"
   ]
  },
  {
   "cell_type": "code",
   "execution_count": 5,
   "metadata": {},
   "outputs": [],
   "source": [
    "#update adata.var object to reflect BESCA standards\n",
    "adata_gex.var['SYMBOL'] = adata_gex.var.index.tolist()\n",
    "adata_gex.var['ENSEMBL'] = 'N.A.'\n",
    "\n",
    "adata_CITEseq.var['SYMBOL'] = adata_CITEseq.var.index.tolist()\n",
    "adata_CITEseq.var['ENSEMBL'] = 'N.A.'\n",
    "\n",
    "adata_gex.var['feature_type'] = 'Gene Expression'\n",
    "adata_CITEseq.var['feature_type'] = 'Antibody Capture'"
   ]
  },
  {
   "cell_type": "code",
   "execution_count": 6,
   "metadata": {},
   "outputs": [],
   "source": [
    "#generate new anndataobject that contains all information\n",
    "from scipy.sparse import hstack, csr_matrix\n",
    "X_merged = hstack([adata_gex.X, adata_CITEseq.X])\n",
    "\n",
    "adata_merged = sc.AnnData(csr_matrix(X_merged)) #make sure to save as CSR matrix otherwise certain AnnData functions dont work\n",
    "adata_merged.obs = adata_gex.obs\n",
    "adata_merged.obs_names = adata_gex.obs_names\n",
    "adata_merged.var = pd.concat([adata_gex.var, adata_CITEseq.var])\n",
    "adata_merged.var_names = adata_merged.var.index.tolist()"
   ]
  },
  {
   "cell_type": "code",
   "execution_count": 7,
   "metadata": {},
   "outputs": [
    {
     "data": {
      "text/html": [
       "<div>\n",
       "<style scoped>\n",
       "    .dataframe tbody tr th:only-of-type {\n",
       "        vertical-align: middle;\n",
       "    }\n",
       "\n",
       "    .dataframe tbody tr th {\n",
       "        vertical-align: top;\n",
       "    }\n",
       "\n",
       "    .dataframe thead th {\n",
       "        text-align: right;\n",
       "    }\n",
       "</style>\n",
       "<table border=\"1\" class=\"dataframe\">\n",
       "  <thead>\n",
       "    <tr style=\"text-align: right;\">\n",
       "      <th></th>\n",
       "      <th>SYMBOL</th>\n",
       "      <th>ENSEMBL</th>\n",
       "      <th>feature_type</th>\n",
       "    </tr>\n",
       "  </thead>\n",
       "  <tbody>\n",
       "    <tr>\n",
       "      <th>MIR1302-10</th>\n",
       "      <td>MIR1302-10</td>\n",
       "      <td>N.A.</td>\n",
       "      <td>Gene Expression</td>\n",
       "    </tr>\n",
       "    <tr>\n",
       "      <th>FAM138A</th>\n",
       "      <td>FAM138A</td>\n",
       "      <td>N.A.</td>\n",
       "      <td>Gene Expression</td>\n",
       "    </tr>\n",
       "    <tr>\n",
       "      <th>OR4F5</th>\n",
       "      <td>OR4F5</td>\n",
       "      <td>N.A.</td>\n",
       "      <td>Gene Expression</td>\n",
       "    </tr>\n",
       "    <tr>\n",
       "      <th>RP11-34P13.7</th>\n",
       "      <td>RP11-34P13.7</td>\n",
       "      <td>N.A.</td>\n",
       "      <td>Gene Expression</td>\n",
       "    </tr>\n",
       "    <tr>\n",
       "      <th>RP11-34P13.8</th>\n",
       "      <td>RP11-34P13.8</td>\n",
       "      <td>N.A.</td>\n",
       "      <td>Gene Expression</td>\n",
       "    </tr>\n",
       "    <tr>\n",
       "      <th>...</th>\n",
       "      <td>...</td>\n",
       "      <td>...</td>\n",
       "      <td>...</td>\n",
       "    </tr>\n",
       "    <tr>\n",
       "      <th>CD80_PROT</th>\n",
       "      <td>CD80_PROT</td>\n",
       "      <td>N.A.</td>\n",
       "      <td>Antibody Capture</td>\n",
       "    </tr>\n",
       "    <tr>\n",
       "      <th>CD86_PROT</th>\n",
       "      <td>CD86_PROT</td>\n",
       "      <td>N.A.</td>\n",
       "      <td>Antibody Capture</td>\n",
       "    </tr>\n",
       "    <tr>\n",
       "      <th>CD183_PROT</th>\n",
       "      <td>CD183_PROT</td>\n",
       "      <td>N.A.</td>\n",
       "      <td>Antibody Capture</td>\n",
       "    </tr>\n",
       "    <tr>\n",
       "      <th>CD34_PROT</th>\n",
       "      <td>CD34_PROT</td>\n",
       "      <td>N.A.</td>\n",
       "      <td>Antibody Capture</td>\n",
       "    </tr>\n",
       "    <tr>\n",
       "      <th>CD20_PROT</th>\n",
       "      <td>CD20_PROT</td>\n",
       "      <td>N.A.</td>\n",
       "      <td>Antibody Capture</td>\n",
       "    </tr>\n",
       "  </tbody>\n",
       "</table>\n",
       "<p>32825 rows × 3 columns</p>\n",
       "</div>"
      ],
      "text/plain": [
       "                    SYMBOL ENSEMBL      feature_type\n",
       "MIR1302-10      MIR1302-10    N.A.   Gene Expression\n",
       "FAM138A            FAM138A    N.A.   Gene Expression\n",
       "OR4F5                OR4F5    N.A.   Gene Expression\n",
       "RP11-34P13.7  RP11-34P13.7    N.A.   Gene Expression\n",
       "RP11-34P13.8  RP11-34P13.8    N.A.   Gene Expression\n",
       "...                    ...     ...               ...\n",
       "CD80_PROT        CD80_PROT    N.A.  Antibody Capture\n",
       "CD86_PROT        CD86_PROT    N.A.  Antibody Capture\n",
       "CD183_PROT      CD183_PROT    N.A.  Antibody Capture\n",
       "CD34_PROT        CD34_PROT    N.A.  Antibody Capture\n",
       "CD20_PROT        CD20_PROT    N.A.  Antibody Capture\n",
       "\n",
       "[32825 rows x 3 columns]"
      ]
     },
     "execution_count": 7,
     "metadata": {},
     "output_type": "execute_result"
    }
   ],
   "source": [
    "adata_merged.var"
   ]
  },
  {
   "cell_type": "code",
   "execution_count": 8,
   "metadata": {
    "scrolled": true
   },
   "outputs": [
    {
     "name": "stderr",
     "output_type": "stream",
     "text": [
      "... storing 'CONDITION' as categorical\n",
      "... storing 'sample_type' as categorical\n",
      "... storing 'donor' as categorical\n",
      "... storing 'tenx_lane' as categorical\n",
      "... storing 'cohort' as categorical\n",
      "... storing 'timepoint' as categorical\n",
      "... storing 'ENSEMBL' as categorical\n",
      "... storing 'feature_type' as categorical\n",
      "... storing '\"orig.ident\"' as categorical\n",
      "... storing '\"tenx_lane\"' as categorical\n",
      "... storing '\"cohort\"' as categorical\n",
      "... storing '\"batch\"' as categorical\n",
      "... storing '\"hash_maxID\"' as categorical\n",
      "... storing '\"hash_secondID\"' as categorical\n",
      "... storing '\"hto_classification\"' as categorical\n",
      "... storing '\"hto_classification_global\"' as categorical\n",
      "... storing '\"hash_ID\"' as categorical\n",
      "... storing '\"adjmfc.time\"' as categorical\n",
      "... storing '\"DMX_GLOBAL_BEST\"' as categorical\n",
      "... storing '\"DEMUXLET.BARCODE\"' as categorical\n",
      "... storing '\"sample\"' as categorical\n",
      "... storing '\"sampleid\"' as categorical\n",
      "... storing '\"joint_classification_global\"' as categorical\n",
      "... storing '\"dmx_hto_match\"' as categorical\n",
      "... storing '\"timepoint\"' as categorical\n",
      "... storing 'ENSEMBL' as categorical\n",
      "... storing 'feature_type' as categorical\n",
      "... storing 'ENSEMBL' as categorical\n",
      "... storing 'feature_type' as categorical\n"
     ]
    }
   ],
   "source": [
    "#write out dataobjects to file\n",
    "adata_gex.write('adata_gene_raw.h5ad')\n",
    "adata_CITEseq.write('adata_prot_raw.h5ad')\n",
    "adata_merged.write('adata_raw.h5ad')"
   ]
  },
  {
   "cell_type": "code",
   "execution_count": 9,
   "metadata": {},
   "outputs": [
    {
     "name": "stdout",
     "output_type": "stream",
     "text": [
      "writing out matrix.mtx ...\n",
      "adata.X successfully written to matrix.mtx. \n",
      " Warning: could not use reformat script.\n",
      "feature annotation is present and will be written out\n",
      "genes successfully written out to genes.tsv\n",
      "cellbarcodes successfully written out to barcodes.tsv\n"
     ]
    }
   ],
   "source": [
    "#write out to matrix and mtx files as well\n",
    "bc.export.X_to_mtx(adata_merged, outpath='raw')\n",
    "adata_merged.obs.to_csv('raw/metadata.tsv', sep = '\\t')"
   ]
  }
 ],
 "metadata": {
  "kernelspec": {
   "display_name": "Python3.7 (besca)",
   "language": "python",
   "name": "besca"
  },
  "language_info": {
   "codemirror_mode": {
    "name": "ipython",
    "version": 3
   },
   "file_extension": ".py",
   "mimetype": "text/x-python",
   "name": "python",
   "nbconvert_exporter": "python",
   "pygments_lexer": "ipython3",
   "version": "3.7.1"
  },
  "toc": {
   "base_numbering": 1,
   "nav_menu": {},
   "number_sections": true,
   "sideBar": true,
   "skip_h1_title": false,
   "title_cell": "Table of Contents",
   "title_sidebar": "Contents",
   "toc_cell": true,
   "toc_position": {},
   "toc_section_display": true,
   "toc_window_display": true
  }
 },
 "nbformat": 4,
 "nbformat_minor": 4
}
