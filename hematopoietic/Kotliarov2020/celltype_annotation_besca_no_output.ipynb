{
 "cells": [
  {
   "cell_type": "markdown",
   "metadata": {},
   "source": [
    "# Annotating Cell Types\n",
    "\n",
    "This workbook can be run after the standard workflow.\n",
    "It is demonstrating how to use the  annotation function to annotate the dataset that was runned through the standard worflow.\n",
    "\n",
    "In this notebook, we will show how to use in-besca annotation to assign cell type to clusters.\n",
    "We focus on immune celltype and demonstrate signature-scoring functions.\n",
    "\n",
    "\n",
    "An alternative in the case a an annotated training dataset already exists is to use the auto-annot module. Please refer to the corresponding tutorial."
   ]
  },
  {
   "cell_type": "code",
   "execution_count": null,
   "metadata": {},
   "outputs": [],
   "source": [
    "import besca as bc\n",
    "import numpy as np\n",
    "import pandas as pd\n",
    "import scanpy as sc\n",
    "import matplotlib.pyplot as plt\n",
    "from scipy import sparse, io\n",
    "import os\n",
    "import time\n",
    "import logging\n",
    "import seaborn as sns\n",
    "sc.logging.print_header()\n",
    "import IPython\n",
    "\n",
    "# for standard processing, set verbosity to minimum\n",
    "sc.settings.verbosity = 0  # verbosity: errors (0), warnings (1), info (2), hints (3)\n",
    "sc.settings.set_figure_params(dpi=80)\n",
    "version = '2.8'\n",
    "start0 = time.time()"
   ]
  },
  {
   "cell_type": "code",
   "execution_count": null,
   "metadata": {
    "scrolled": true
   },
   "outputs": [],
   "source": [
    "#define standardized filepaths based on above input\n",
    "root_path = os.getcwd()\n",
    "bescapath_full = os.path.dirname(bc.__file__)\n",
    "bescapath = os.path.split(bescapath_full)[0]\n",
    "\n",
    "analysis_name = 'standard_workflow_besca2.0'\n",
    "\n",
    "# Choose the clustering to base the annotation on.\n",
    "# leiden, CLR (CITE-seq), DSB (CITE-seq)\n",
    "clusters='leiden' \n",
    "\n",
    "# Which UMAP basis to use for visualization\n",
    "# umap or protein_umap\n",
    "umap_basis='umap'\n",
    "\n",
    "# If citeseq data, select the normalization that was used:\n",
    "citeseq=False\n",
    "# CLR or DSB\n",
    "adt_norm='' \n"
   ]
  },
  {
   "cell_type": "markdown",
   "metadata": {},
   "source": [
    "The chunk of code below is usefull if this is the initial installation of besca and that you are running this notebook as a test. It will download if needed the test datasets and export the labelling. \n",
    "This export is usually done at the end of the standard workflow. Exported files  are necessary for the annotations."
   ]
  },
  {
   "cell_type": "code",
   "execution_count": null,
   "metadata": {},
   "outputs": [],
   "source": [
    "use_example_dataset = False\n",
    "if use_example_dataset:\n",
    "    analysis_name='pbmc3k_processed'\n",
    "    results_folder = os.path.split(os.getcwd())[0] + '/besca/datasets/data/'\n",
    "    clusters='leiden'\n",
    "    # This line will either download, or load the datasets\n",
    "    adata = bc.datasets.pbmc3k_processed()\n",
    "    # This line exports the annotation for the annotation.\n",
    "    adata = bc.st.additional_labeling(adata, labeling_to_use= clusters, labeling_name = clusters, \n",
    "                                      labeling_description = 'Exporting a postori the labels for annotation',\n",
    "                                      labeling_author = 'Testing', \n",
    "                                      results_folder= results_folder)\n",
    "else:\n",
    "    if clusters == 'leiden':\n",
    "        results_folder = os.path.join(root_path, 'analyzed')\n",
    "        if citeseq:\n",
    "            results_folder = os.path.join(results_folder, analysis_name, 'citeseq' + adt_norm, 'citeseq_merged') ## TODO, added\n",
    "            adata = sc.read_h5ad(os.path.join(results_folder ,analysis_name + '.h5ad') )\n",
    "        else:\n",
    "            results_folder = os.path.join(results_folder, analysis_name)\n",
    "            adata = sc.read_h5ad(os.path.join(results_folder, analysis_name + '.h5ad') )\n",
    "        \n",
    "    else:\n",
    "        results_folder = os.path.join(root_path, 'analyzed', analysis_name, 'citeseq'+clusters, 'citeseq')\n",
    "        adata = sc.read_h5ad(os.path.join(results_folder + '_merged' ,analysis_name + '.h5ad') )\n",
    "        clusters='protein_leiden'"
   ]
  },
  {
   "cell_type": "code",
   "execution_count": null,
   "metadata": {},
   "outputs": [],
   "source": [
    "results_file = os.path.join(results_folder, analysis_name + '.annotated.updated.h5ad')\n",
    "figdir=os.path.join(root_path, 'analyzed', analysis_name+'/figures/')\n",
    "sc.settings.figdir = figdir\n",
    "if not os.path.exists(figdir):\n",
    "    os.makedirs(figdir)"
   ]
  },
  {
   "cell_type": "code",
   "execution_count": null,
   "metadata": {},
   "outputs": [],
   "source": [
    "sc.pl.umap(adata, color= [clusters], legend_loc='on data')"
   ]
  },
  {
   "cell_type": "code",
   "execution_count": null,
   "metadata": {
    "scrolled": true
   },
   "outputs": [],
   "source": [
    "if citeseq:\n",
    "    # Expression pattern of the antibodies\n",
    "    # Can be usefull to refine the annotations, if the clusters are RNA-based\n",
    "    ab_names = adata.var[adata.var.feature_type=='Antibody Capture']\n",
    "    sc.pl.embedding(adata, basis = 'umap', color=ab_names.index.tolist(), color_map = 'viridis')"
   ]
  },
  {
   "cell_type": "markdown",
   "metadata": {},
   "source": [
    "### Explore top marker genes per cluster "
   ]
  },
  {
   "cell_type": "code",
   "execution_count": null,
   "metadata": {},
   "outputs": [],
   "source": [
    "DEgenes=bc.tl.dge.get_de(adata,clusters,demethod='wilcoxon',topnr=5000, logfc=1,padj=0.05)\n"
   ]
  },
  {
   "cell_type": "code",
   "execution_count": null,
   "metadata": {},
   "outputs": [],
   "source": [
    "### Select only top genes (in order of p-val) for 2 clusters and plot expression per cluster\n",
    "tops=list(DEgenes['0']['Name'][0:20])+list(DEgenes['1']['Name'][0:20])\n",
    "sc.pl.dotplot(adata, var_names=tops,groupby=clusters)"
   ]
  },
  {
   "cell_type": "markdown",
   "metadata": {},
   "source": [
    "### Explore distribution of various cell populations"
   ]
  },
  {
   "cell_type": "code",
   "execution_count": null,
   "metadata": {},
   "outputs": [],
   "source": [
    "# One can load besca-provided signatures using the function below\n",
    "signature_dict = bc.datasets.load_immune_signatures(refined=False)\n",
    "\n",
    "signature_dict"
   ]
  },
  {
   "cell_type": "markdown",
   "metadata": {},
   "source": [
    "Additionaly it is possible to read an compute scanpy score using this function below.\n",
    "\n",
    "If the gmt file is composed of combined signature (UP and DN), a common score will be computed: \n",
    "$$Total\\_SCORE= Score_{UP} - Score_{DN}$$"
   ]
  },
  {
   "cell_type": "code",
   "execution_count": null,
   "metadata": {
    "scrolled": true
   },
   "outputs": [],
   "source": [
    "gmt_file= bescapath + '/besca/datasets/genesets/Immune.gmt'\n",
    "bc.tl.sig.combined_signature_score(adata, gmt_file,\n",
    "                             UP_suffix='_UP', DN_suffix='_DN', method='scanpy',\n",
    "                             overwrite=False, verbose=False,\n",
    "                             use_raw=True, conversion=None)\n",
    "scores = [x for x in adata.obs.columns if 'scanpy' in x]"
   ]
  },
  {
   "cell_type": "code",
   "execution_count": null,
   "metadata": {
    "scrolled": true
   },
   "outputs": [],
   "source": [
    "sc.pl.embedding(adata, basis = umap_basis, color= scores)"
   ]
  },
  {
   "cell_type": "markdown",
   "metadata": {},
   "source": [
    "# Immune signatures for specific sub-populations"
   ]
  },
  {
   "cell_type": "code",
   "execution_count": null,
   "metadata": {
    "scrolled": true
   },
   "outputs": [],
   "source": [
    "## PROVIDED WITH BESCA\n",
    "gmt_file_anno= bescapath + '/besca/datasets/genesets/CellNames_scseqCMs6_sigs.gmt'\n",
    "bc.tl.sig.combined_signature_score(adata, gmt_file_anno)"
   ]
  },
  {
   "cell_type": "code",
   "execution_count": null,
   "metadata": {},
   "outputs": [],
   "source": [
    "scores = [x for x in adata.obs.columns if 'scanpy' in x]\n",
    "sc.pl.embedding(adata, basis = umap_basis, color= scores, color_map = 'viridis')"
   ]
  },
  {
   "cell_type": "code",
   "execution_count": null,
   "metadata": {
    "scrolled": true
   },
   "outputs": [],
   "source": [
    "sc.pl.embedding(adata, basis = umap_basis, color= ['score_Myeloid_scanpy','score_Bcell_scanpy','score_Tcell_scanpy','score_NKcell_scanpy'], color_map = 'viridis')"
   ]
  },
  {
   "cell_type": "markdown",
   "metadata": {
    "toc-hr-collapsed": true,
    "toc-nb-collapsed": true
   },
   "source": [
    "# Automated annotation\n",
    "\n",
    "A decision-tree-based annotation that reads signatures from a provided .gmt file and hierarchy as well as cutoffs and signature ordering from a configuration file and attributes each cell to a specific type according to signature enrichment. \n",
    "\n",
    "This is an aid to start the annotation process. The annotation can then be further refined by adding further signatures or adjusting the configuration files. It was tested mainly on PBMCs and oncology (tumor biopsies) related samples.\n"
   ]
  },
  {
   "source": [
    "## Reclustering with higher resolution to more accurately annotate cells\n",
    "\n",
    "If the standard clustering resuoltiion of 1.0 is used (especially for large datasets), it is very common that different cell sub-populations are put into the same cluster and can not be seperated. Reclustering the dataset with a higher resolution solves this issue."
   ],
   "cell_type": "markdown",
   "metadata": {}
  },
  {
   "cell_type": "code",
   "execution_count": null,
   "metadata": {},
   "outputs": [],
   "source": [
    "adata.obs[clusters+'_r1.0'] = adata.obs[clusters]\n",
    "adata = bc.st.clustering(adata, results_folder, myres=1.2, method = clusters) \n",
    "bc.export.clustering(adata, outpath = os.path.join(results_folder, 'labelings', clusters+'_r1.2'), method = clusters)\n",
    "bc.export.labeling_info(outpath=os.path.join(results_folder, 'labelings', clusters+'_r1.2'), description=clusters+' clustering with r=1.2', method='leiden')"
   ]
  },
  {
   "cell_type": "markdown",
   "metadata": {},
   "source": [
    "## Loading markers and signature"
   ]
  },
  {
   "cell_type": "code",
   "execution_count": null,
   "metadata": {},
   "outputs": [],
   "source": [
    "#old Ubi marker genes\n",
    "sc.pl.umap(adata, color = ['B2M','ACTB', 'ZNF207', 'HNRNPK','HNRNPU'])\n",
    "\n",
    "#old Ubi marker genes\n",
    "sc.pl.umap(adata, color = ['SNRPD3', 'SRRM1', 'ZNF207', 'HNRNPU'])"
   ]
  },
  {
   "cell_type": "code",
   "execution_count": null,
   "metadata": {},
   "outputs": [],
   "source": [
    "mymarkers = bc.tl.sig.read_GMT_sign(gmt_file_anno, directed=False)\n",
    "mymarkers = bc.tl.sig.filter_siggenes(adata, mymarkers) ### remove genes not present in dataset or empty signatures\n",
    "mymarkers['Ubi'] = ['SNRPD3', 'SRRM1', 'ZNF207', 'HNRNPU'] ### used for cutoff adjustment to individual dataset, can be modified"
   ]
  },
  {
   "cell_type": "code",
   "execution_count": null,
   "metadata": {
    "scrolled": true
   },
   "outputs": [],
   "source": [
    "### Inspect gene expression for an example population\n",
    "sc.pl.embedding(adata, basis = umap_basis, color= mymarkers['NClassMonocyte'])"
   ]
  },
  {
   "cell_type": "code",
   "execution_count": null,
   "metadata": {},
   "outputs": [],
   "source": [
    "sc.pl.embedding(adata, basis = umap_basis, color = mymarkers['EMCD4Tcell'])"
   ]
  },
  {
   "cell_type": "markdown",
   "metadata": {},
   "source": [
    "## Configuration of the annotation\n",
    "\n",
    "We read the configuration file, containing hierarchy, cutoff and signature priority information. \n",
    "A new version of this file should be created and maintained with each annotation. \n",
    "The included example is optimised for the annotation of the 6.6k PBMC dataset. "
   ]
  },
  {
   "cell_type": "code",
   "execution_count": null,
   "metadata": {},
   "outputs": [],
   "source": [
    "configfile=bescapath + '/besca/datasets/genesets/CellNames_scseqCMs6_config.tsv' ### replace this with your config\n",
    "sigconfig,levsk = bc.tl.sig.read_annotconfig(configfile)"
   ]
  },
  {
   "cell_type": "code",
   "execution_count": null,
   "metadata": {},
   "outputs": [],
   "source": [
    "# The order of cells at different levels can be manually changed if needed\n",
    "#levsk[0]=['ColorectalCancer', 'Epithelial','Fibroblast','Endothelial','Erythrocyte','HematoStem',\n",
    "#          'Hepatocyte','MelMelanoma','Neural','Adipocyte','Hematopoietic','Schwann','Chondrocyte','Glial']"
   ]
  },
  {
   "cell_type": "markdown",
   "metadata": {},
   "source": [
    "#### Get an overview of the cell type hierarchy included in the configuration file"
   ]
  },
  {
   "cell_type": "code",
   "execution_count": null,
   "metadata": {
    "scrolled": false
   },
   "outputs": [],
   "source": [
    "plt = bc.pl.nomenclature_network(configfile, font_size=8)\n",
    "plt.savefig(figdir+\"Nomenclatureplot.svg\", format=\"svg\")"
   ]
  },
  {
   "cell_type": "markdown",
   "metadata": {},
   "source": [
    "Fract_pos was exported by BESCA in the standard worflow test, \n",
    "contains information of fraction positive cells per genes per cluster.\n",
    "\n",
    "We use these values as a basis for a wilcoxon test per signature per cluster. "
   ]
  },
  {
   "cell_type": "code",
   "execution_count": null,
   "metadata": {},
   "outputs": [],
   "source": [
    "f = pd.read_csv(results_folder + '/labelings/' + clusters + '/fract_pos.gct' ,sep=\"\\t\",skiprows=2)\n",
    "df = bc.tl.sig.score_mw(f, mymarkers)\n",
    "myc = np.median(df.loc['Ubi',:]*0.5) ### Set a cutoff based on Ubi and scale with values from config file\n",
    "print('myc level: ', myc)"
   ]
  },
  {
   "cell_type": "markdown",
   "metadata": {},
   "source": [
    "#### For an overview of highest scoring signatures, one can generate a heatmap"
   ]
  },
  {
   "cell_type": "code",
   "execution_count": null,
   "metadata": {},
   "outputs": [],
   "source": [
    "sns.clustermap(df.loc[df.max(axis=1)>myc*1,:].astype(float),figsize=(12, 8))\n",
    "plt.savefig(figdir+\"SignatureHeatmap_all.svg\", format=\"svg\")"
   ]
  },
  {
   "cell_type": "markdown",
   "metadata": {},
   "source": [
    "For each signature, positive and negative clusters are determined. Only positive clusters are maintained. Cutoffs can be individualised based on the config file (scaling factor) and myc, which is determined based on ubiquitously expressed genes. "
   ]
  },
  {
   "cell_type": "code",
   "execution_count": null,
   "metadata": {},
   "outputs": [],
   "source": [
    "df=df.drop('Ubi')"
   ]
  },
  {
   "cell_type": "code",
   "execution_count": null,
   "metadata": {},
   "outputs": [],
   "source": [
    "sigconfig.loc['CMCD4Tcell']"
   ]
  },
  {
   "cell_type": "code",
   "execution_count": null,
   "metadata": {},
   "outputs": [],
   "source": [
    "#Cluster attribution based on cutoff\n",
    "sigscores={}\n",
    "for mysig in list(df.index):\n",
    "    sigscores[mysig]=bc.tl.sig.getset(df,mysig,sigconfig.loc[mysig,'Cutoff']*myc)\n",
    "    #sigscores[mysig]=bc.tl.sig.getset(df,mysig,10)\n",
    "\n",
    "#give an overview of the signature scores and see which cluster was attributed to which label\n",
    "sigscores"
   ]
  },
  {
   "cell_type": "markdown",
   "metadata": {},
   "source": [
    "One can inspect the cluster attribution per cell type in the signature list and adjust cutoffs as required. "
   ]
  },
  {
   "cell_type": "code",
   "execution_count": null,
   "metadata": {},
   "outputs": [],
   "source": [
    "sc.pl.umap(adata, color= [clusters], legend_loc='on data')\n",
    "sc.pl.umap(adata, color= ['celltype3'])"
   ]
  },
  {
   "cell_type": "markdown",
   "metadata": {},
   "source": [
    "Now each cluster gets annotated, according to the distinct levels specified in the config file. \n",
    "Note that in case a cluster is positive for multiple identities, only the first one is taken, \n",
    "in the order specified in the \"Order\" column in the config file. "
   ]
  },
  {
   "cell_type": "markdown",
   "metadata": {},
   "source": [
    "## Obtained cluster assignment"
   ]
  },
  {
   "cell_type": "code",
   "execution_count": null,
   "metadata": {},
   "outputs": [],
   "source": [
    "### Cell types that are not expected in the dataset can be explicity excluded from the annotation \n",
    "toexclude=['AlphaPancreatic', 'BetaPancreatic', 'DeltaPancreatic']\n"
   ]
  },
  {
   "cell_type": "markdown",
   "metadata": {},
   "source": [
    "We now obtain per each cluster cell type attribution at distinct levels. "
   ]
  },
  {
   "cell_type": "code",
   "execution_count": null,
   "metadata": {},
   "outputs": [],
   "source": [
    "cnames=bc.tl.sig.make_anno(df,sigscores,sigconfig,levsk, toexclude=toexclude)\n",
    "cnames"
   ]
  },
  {
   "cell_type": "markdown",
   "metadata": {},
   "source": [
    "Export the used annotation parameters, for future reference"
   ]
  },
  {
   "cell_type": "code",
   "execution_count": null,
   "metadata": {},
   "outputs": [],
   "source": [
    "bc.tl.sig.export_annotconfig(sigconfig, levsk, results_folder, analysis_name)"
   ]
  },
  {
   "cell_type": "markdown",
   "metadata": {},
   "source": [
    "## Using db label convention\n",
    "\n",
    "Only short names were used in the signature naming convention in this case. \n",
    "One can easity tranform this to EFO terms if preferred, a conversion table comes with besca. \n",
    "\n",
    "This nomenclature is quite extended, and the function \n",
    "**obtain_dblabel** can perform the conversion."
   ]
  },
  {
   "cell_type": "code",
   "execution_count": null,
   "metadata": {},
   "outputs": [],
   "source": [
    "### transform these short forms to dblabel - EFO standard nomenclature\n",
    "cnamesDBlabel = bc.tl.sig.obtain_dblabel(bescapath+'/besca/datasets/nomenclature/CellTypes_v1.tsv', cnames )\n",
    "cnamesDBlabel"
   ]
  },
  {
   "cell_type": "markdown",
   "metadata": {},
   "source": [
    "Finally, one can add the new labels to adata.obs as annotation. "
   ]
  },
  {
   "cell_type": "code",
   "execution_count": null,
   "metadata": {},
   "outputs": [],
   "source": [
    "adata.obs['celltype0']=bc.tl.sig.add_anno(adata,cnamesDBlabel,'celltype0',clusters)\n",
    "adata.obs['celltype2']=bc.tl.sig.add_anno(adata,cnamesDBlabel,'celltype2',clusters)\n",
    "adata.obs['celltype3']=bc.tl.sig.add_anno(adata,cnamesDBlabel,'celltype3',clusters)"
   ]
  },
  {
   "cell_type": "code",
   "execution_count": null,
   "metadata": {},
   "outputs": [],
   "source": [
    "sc.pl.umap(adata,color=['leiden', 'celltype2'], wspace = 0.4) #,'celltype2'"
   ]
  },
  {
   "cell_type": "code",
   "execution_count": null,
   "metadata": {
    "scrolled": false
   },
   "outputs": [],
   "source": [
    "sc.pl.umap(adata,color=['celltype3']) #,'celltype3'"
   ]
  },
  {
   "cell_type": "markdown",
   "metadata": {},
   "source": [
    "## Manual refinement"
   ]
  },
  {
   "cell_type": "markdown",
   "metadata": {},
   "source": [
    "In some cases, the annotation does not produce the optimal result. Manual adjustments can be made, \n",
    "by replacing cell type names or by manually labeling clusters. Note that the second option is not \n",
    "stable across reruns if any adjustments are made to the clustering. "
   ]
  },
  {
   "cell_type": "code",
   "execution_count": null,
   "metadata": {},
   "outputs": [],
   "source": [
    "### Example 1: Classical monocytes contains both classical and non-classical monocytes, adjust to monocytes\n",
    "#adata.obs['celltype2']=list(adata.obs['celltype2'].replace('classical monocyte', 'monocyte'))\n",
    "#adata.obs['celltype3']=list(adata.obs['celltype3'].replace('classical monocyte', 'monocyte'))"
   ]
  },
  {
   "cell_type": "code",
   "execution_count": null,
   "metadata": {},
   "outputs": [],
   "source": [
    "### Example 2: non-classical monocytes need to be added to a specific cluster\n",
    "#adata.obs['celltype2']=adata.obs['celltype2'].cat.add_categories('non-classical monocyte')\n",
    "#adata.obs['celltype3']=adata.obs['celltype3'].cat.add_categories('non-classical monocyte')\n",
    "#adata.obs.loc[adata.obs[clusters].isin(['4']),'celltype2']='non-classical monocyte'\n",
    "#adata.obs.loc[adata.obs[clusters].isin(['4']),'celltype3']='non-classical monocyte'"
   ]
  },
  {
   "cell_type": "markdown",
   "metadata": {},
   "source": [
    "### Export labelling"
   ]
  },
  {
   "cell_type": "markdown",
   "metadata": {},
   "source": [
    "Chosen labels can also be exported as a new folder in labelings/"
   ]
  },
  {
   "cell_type": "code",
   "execution_count": null,
   "metadata": {
    "scrolled": true
   },
   "outputs": [],
   "source": [
    "\n",
    "adata = bc.st.additional_labeling(adata, 'celltype3', 'celltype3', 'Major cell types', 'annot_author', results_folder)\n"
   ]
  },
  {
   "cell_type": "markdown",
   "metadata": {},
   "source": [
    "### Follow-up analyses for marker generation"
   ]
  },
  {
   "cell_type": "markdown",
   "metadata": {},
   "source": [
    "If one is interested in new markers, one can perform DE at the cell type annotation level of choice. "
   ]
  },
  {
   "cell_type": "code",
   "execution_count": null,
   "metadata": {},
   "outputs": [],
   "source": [
    "### Perform DE cells of each celltype3 vs. all other cells\n",
    "DEgenes=bc.tl.dge.get_de(adata,'celltype3',demethod='wilcoxon',topnr=5000, logfc=1,padj=0.05)"
   ]
  },
  {
   "cell_type": "markdown",
   "metadata": {},
   "source": [
    "If one is interested in additional markers correlated with the marker of interest, \n",
    "one can caculated the spearman correlation. "
   ]
  },
  {
   "cell_type": "code",
   "execution_count": null,
   "metadata": {},
   "outputs": [],
   "source": [
    "import scipy.stats as ss\n",
    "import operator\n",
    "\n",
    "allmarkers=adata.var_names\n",
    "\n",
    "spearcorsAll = {}\n",
    "for i in allmarkers:\n",
    "    spearcorsAll[i]=ss.spearmanr(adata.raw[:, i].X.todense(),adata.raw[:,'MS4A1'].X.todense())[0]\n",
    "\n",
    "\n",
    "spearcorsAll=sorted(spearcorsAll.items(),key=operator.itemgetter(1))\n",
    "spearcorsAll_ids = [idx for idx, val in spearcorsAll]\n",
    "goiNegAll=spearcorsAll_ids[0:30]\n",
    "goiPosAll=spearcorsAll_ids[(len(spearcorsAll_ids)-30):len(spearcorsAll_ids)]"
   ]
  },
  {
   "cell_type": "code",
   "execution_count": null,
   "metadata": {
    "scrolled": false
   },
   "outputs": [],
   "source": [
    "sc.pl.dotplot(adata, var_names=goiPosAll,groupby='celltype3')"
   ]
  },
  {
   "source": [
    "## FlowJo Gating"
   ],
   "cell_type": "markdown",
   "metadata": {}
  },
  {
   "cell_type": "code",
   "execution_count": null,
   "metadata": {},
   "outputs": [],
   "source": [
    "#import flowjo labelling\n",
    "barcodes = './celltypes/barcodes'\n",
    "adata.obs['celltype_flowjo'] = 'not determined'"
   ]
  },
  {
   "cell_type": "code",
   "execution_count": null,
   "metadata": {},
   "outputs": [],
   "source": [
    "barcodes_list = {}\n",
    "for file in os.listdir(barcodes):\n",
    "    if file in ['Tcells.csv', 'monocytes.csv']:\n",
    "        continue\n",
    "    name = file.replace('.csv', '')\n",
    "    barcodes_list[name] = list(pd.read_csv(os.path.join(barcodes, file), header = None)[0])"
   ]
  },
  {
   "cell_type": "code",
   "execution_count": null,
   "metadata": {},
   "outputs": [],
   "source": [
    "labels = pd.read_csv('./celltypes/Labeling_Citeseq_populations.csv', sep = ';', keep_default_na=False)\n",
    "labels.index = labels.get(\"Unnamed: 0\")"
   ]
  },
  {
   "cell_type": "code",
   "execution_count": null,
   "metadata": {},
   "outputs": [],
   "source": [
    "adata.obs['celltype_flowjo_level1'] = 'not determined'\n",
    "\n",
    "for name in barcodes_list.keys():\n",
    "    if name in labels.index.tolist():\n",
    "        label = labels.loc[name, \"Level 1\"]\n",
    "\n",
    "        if label == \"NA\":\n",
    "            continue\n",
    "\n",
    "        _filter = [x in barcodes_list[name] for x in adata.obs.CELL]\n",
    "        adata.obs.loc[_filter, 'celltype_flowjo_level1'] = label\n",
    "    else:\n",
    "        continue\n",
    "\n",
    "adata.obs['celltype_flowjo_level2']   =   adata.obs['celltype_flowjo_level1']\n",
    "    \n",
    "for name in barcodes_list.keys():\n",
    "    if name in labels.index.tolist():\n",
    "        label = labels.loc[name, \"Level 2\"]\n",
    "\n",
    "        if label == \"NA\":\n",
    "            continue\n",
    "\n",
    "        _filter = [x in barcodes_list[name] for x in adata.obs.CELL]\n",
    "        adata.obs.loc[_filter, 'celltype_flowjo_level2'] = label\n",
    "    else:\n",
    "        continue\n",
    "\n",
    "adata.obs['celltype_flowjo_level3']   =   adata.obs['celltype_flowjo_level2']\n",
    "    \n",
    "for name in barcodes_list.keys():\n",
    "    if name in labels.index.tolist():\n",
    "        label = labels.loc[name, \"Level 3\"]\n",
    "\n",
    "        if label == \"NA\":\n",
    "            continue\n",
    "\n",
    "        _filter = [x in barcodes_list[name] for x in adata.obs.CELL]\n",
    "        adata.obs.loc[_filter, 'celltype_flowjo_level3'] = label\n",
    "    else:\n",
    "        continue"
   ]
  },
  {
   "cell_type": "code",
   "execution_count": null,
   "metadata": {},
   "outputs": [],
   "source": [
    "sc.pl.umap(adata, color = ['celltype3'], ncols = 1, save = \".celltype3.svg\")"
   ]
  },
  {
   "cell_type": "code",
   "execution_count": null,
   "metadata": {},
   "outputs": [],
   "source": [
    "sc.pl.umap(adata, color = ['celltype_flowjo_level3'], ncols = 1, save = \".celltypeflowjo_level3.svg\")"
   ]
  },
  {
   "cell_type": "code",
   "execution_count": null,
   "metadata": {},
   "outputs": [],
   "source": [
    "sc.pl.umap(adata, color = ['celltype_flowjo_level2'], ncols = 1, save = \".celltypeflowjo_level2.svg\")"
   ]
  },
  {
   "cell_type": "code",
   "execution_count": null,
   "metadata": {},
   "outputs": [],
   "source": [
    "sc.pl.umap(adata, color = ['celltype2'], ncols = 1, save = \".celltype2.svg\")"
   ]
  },
  {
   "cell_type": "markdown",
   "metadata": {},
   "source": [
    "### Convert to html"
   ]
  },
  {
   "cell_type": "code",
   "execution_count": null,
   "metadata": {},
   "outputs": [],
   "source": [
    "nb_name = os.path.join(os.getcwd(), 'celltype_annotation')"
   ]
  },
  {
   "cell_type": "code",
   "execution_count": null,
   "metadata": {},
   "outputs": [],
   "source": [
    "! jupyter nbconvert --to html {nb_name}"
   ]
  }
 ],
 "metadata": {
  "kernelspec": {
   "display_name": "Python3.7 (besca)",
   "language": "python",
   "name": "besca"
  },
  "language_info": {
   "codemirror_mode": {
    "name": "ipython",
    "version": 3
   },
   "file_extension": ".py",
   "mimetype": "text/x-python",
   "name": "python",
   "nbconvert_exporter": "python",
   "pygments_lexer": "ipython3",
   "version": "3.7.1-final"
  },
  "toc-autonumbering": false,
  "toc-showcode": false,
  "toc-showmarkdowntxt": false,
  "toc-showtags": false
 },
 "nbformat": 4,
 "nbformat_minor": 4
}