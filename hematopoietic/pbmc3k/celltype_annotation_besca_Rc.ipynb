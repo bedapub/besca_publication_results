{
 "cells": [
  {
   "cell_type": "markdown",
   "metadata": {},
   "source": [
    "# Annotating Cell Types\n",
    "\n",
    "This workbook is runned after the standard workflow with the PBMC 3k.\n",
    "\n"
   ]
  },
  {
   "cell_type": "code",
   "execution_count": null,
   "metadata": {
    "scrolled": true
   },
   "outputs": [],
   "source": [
    "import besca as bc\n",
    "import numpy as np\n",
    "import pandas as pd\n",
    "import scanpy.api as sc\n",
    "import matplotlib.pyplot as plt\n",
    "from scipy import sparse, io\n",
    "import os\n",
    "import time\n",
    "import logging\n",
    "import seaborn as sns\n",
    "sc.logging.print_versions()\n",
    "\n",
    "# for standard processing, set verbosity to minimum\n",
    "sc.settings.verbosity = 0  # verbosity: errors (0), warnings (1), info (2), hints (3)\n",
    "sc.settings.set_figure_params(dpi=80)\n",
    "version = '2.8'\n",
    "start0 = time.time()"
   ]
  },
  {
   "cell_type": "code",
   "execution_count": null,
   "metadata": {
    "scrolled": true
   },
   "outputs": [],
   "source": [
    "#define standardized filepaths based on above input\n",
    "root_path = os.getcwd()\n",
    "bescapath=\"./Code/Besca/besca_dev/\"#o##s.path.split(root_path)[0]\n",
    "\n",
    "### Uncomment this when running after the sworflow\n",
    "analysis_name = 'pbmc3k_filtered'\n",
    "results_folder = os.path.join(root_path, 'analyzed', analysis_name)\n",
    "clusters='leiden'\n",
    "\n",
    "\n",
    "results_folder = os.path.join(root_path, 'analyzed', analysis_name)\n"
   ]
  },
  {
   "cell_type": "code",
   "execution_count": null,
   "metadata": {
    "scrolled": true
   },
   "outputs": [],
   "source": [
    "\n",
    "adata = sc.read_h5ad(os.path.join(results_folder, analysis_name + '.h5ad') )\n",
    "adata\n"
   ]
  },
  {
   "cell_type": "code",
   "execution_count": null,
   "metadata": {},
   "outputs": [],
   "source": [
    "sc.pl.umap(adata, color= [clusters], legend_loc='on data')"
   ]
  },
  {
   "cell_type": "code",
   "execution_count": null,
   "metadata": {},
   "outputs": [],
   "source": [
    "# One can load besca-provided signatures using the function below\n",
    "signature_dict = bc.datasets.load_immune_signatures(refined=False)\n",
    "\n",
    "signature_dict"
   ]
  },
  {
   "cell_type": "code",
   "execution_count": null,
   "metadata": {
    "scrolled": true
   },
   "outputs": [],
   "source": [
    "\n",
    "gmt_file= bescapath + '/besca/datasets/genesets/Immune.gmt'\n",
    "bc.tl.sig.combined_signature_score(adata, gmt_file,\n",
    "                             UP_suffix='_UP', DN_suffix='_DN', method='scanpy',\n",
    "                             overwrite=False, verbose=False,\n",
    "                             use_raw=True, conversion=None)"
   ]
  },
  {
   "cell_type": "code",
   "execution_count": null,
   "metadata": {
    "scrolled": true
   },
   "outputs": [],
   "source": [
    "scores = [x for x in adata.obs.columns if 'scanpy' in x]"
   ]
  },
  {
   "cell_type": "code",
   "execution_count": null,
   "metadata": {
    "scrolled": true
   },
   "outputs": [],
   "source": [
    "sc.pl.umap(adata, color= scores)"
   ]
  },
  {
   "cell_type": "markdown",
   "metadata": {},
   "source": [
    "# Immune signatures for specific sub-populations"
   ]
  },
  {
   "cell_type": "code",
   "execution_count": null,
   "metadata": {
    "scrolled": true
   },
   "outputs": [],
   "source": [
    " ## PROVIDED WITH BESCA\n",
    "gmt_file_anno= bescapath + '/besca/datasets/genesets/CellNames_scseqCMs6_sigs.gmt'\n",
    "bc.tl.sig.combined_signature_score(adata, gmt_file_anno)\n"
   ]
  },
  {
   "cell_type": "code",
   "execution_count": null,
   "metadata": {
    "scrolled": true
   },
   "outputs": [],
   "source": [
    "scores = [x for x in adata.obs.columns if 'scanpy' in x]\n",
    "sc.pl.umap(adata, color= scores, color_map = 'viridis')"
   ]
  },
  {
   "cell_type": "markdown",
   "metadata": {},
   "source": [
    "# Automated annotation\n",
    "\n",
    "A decision-tree-based annotation that reads signatures from a provided .gmt file and hierarchy as well as cutoffs and signature ordering from a configuration file and attributes each cell to a specific type according to signature enrichment. \n",
    "\n",
    "This is an aid to start ther annotation and annotation can then be further refined by adding further signatures or adjusting the configuration files. It was tested mainly on PBMCs and oncology (tumor biopsies) related samples.\n"
   ]
  },
  {
   "cell_type": "code",
   "execution_count": null,
   "metadata": {},
   "outputs": [],
   "source": [
    "mymarkers = bc.tl.sig.read_GMT_sign(gmt_file_anno,directed=False)\n",
    "mymarkers = bc.tl.sig.filter_siggenes(adata, mymarkers) ### remove genes not present in dataset or empty signatures\n",
    "mymarkers['Ubi'] = ['B2M','ACTB', 'GAPDH'] ### used for cutoff adjustment to individual dataset, can be modified"
   ]
  },
  {
   "cell_type": "code",
   "execution_count": null,
   "metadata": {
    "scrolled": true
   },
   "outputs": [],
   "source": [
    "sc.pl.umap(adata, color= mymarkers['NClassMonocyte'])"
   ]
  },
  {
   "cell_type": "markdown",
   "metadata": {},
   "source": [
    "We read the configuration file, containing hierarchy, cutoff and signature priority information. \n",
    "A new version of this file should be created and maintained with each annotation. \n",
    "The included example is optimised for the annotation of the 6.6k PBMC dataset. "
   ]
  },
  {
   "cell_type": "code",
   "execution_count": null,
   "metadata": {},
   "outputs": [],
   "source": [
    "configfile=bescapath + '/besca/datasets/genesets/CellNames_scseqCMs6_config.tsv' ### replace this with your config"
   ]
  },
  {
   "cell_type": "code",
   "execution_count": null,
   "metadata": {},
   "outputs": [],
   "source": [
    "sigconfig,levsk=bc.tl.sig.read_annotconfig(configfile)"
   ]
  },
  {
   "cell_type": "markdown",
   "metadata": {},
   "source": [
    "Fract_pos was exported by BESCA in the standard worflow test, \n",
    "contains information of fraction positive cells per genes per cluster.\n",
    "\n",
    "We use these values as a basis for a wilcoxon test per signature per cluster. "
   ]
  },
  {
   "cell_type": "code",
   "execution_count": null,
   "metadata": {},
   "outputs": [],
   "source": [
    "\n",
    "f=pd.read_csv(results_folder + \"/labelings/\"+clusters+\"/fract_pos.gct\",sep=\"\\t\",skiprows=2)\n",
    "df=bc.tl.sig.score_mw(f,mymarkers)\n",
    "myc=np.median(df.loc['Ubi',:]*0.5) ### Set a cutoff based on Ubi and scale with values from config file\n"
   ]
  },
  {
   "cell_type": "code",
   "execution_count": null,
   "metadata": {},
   "outputs": [],
   "source": [
    "df.iloc[0:3,0:7]"
   ]
  },
  {
   "cell_type": "markdown",
   "metadata": {},
   "source": [
    "For each signature, positive and negative clusters are determined. Only positive clusters are maintained. Cutoffs can be individualised based on the config file (scaling factor) and myc, which is determined based on ubiquitously expressed genes. "
   ]
  },
  {
   "cell_type": "code",
   "execution_count": null,
   "metadata": {},
   "outputs": [],
   "source": [
    "df=df.drop('Ubi')"
   ]
  },
  {
   "cell_type": "code",
   "execution_count": null,
   "metadata": {},
   "outputs": [],
   "source": [
    "#Cluster attribution based on cutoff\n",
    "\n",
    "sigscores={}\n",
    "for mysig in list(df.index):\n",
    "    sigscores[mysig]=bc.tl.sig.getset(df,mysig,sigconfig.loc[mysig,'Cutoff']*myc)\n",
    "    #sigscores[mysig]=bc.tl.sig.getset(df,mysig,10)"
   ]
  },
  {
   "cell_type": "markdown",
   "metadata": {},
   "source": [
    "One can inspect the cluster attribution per cell type in the signature list and adjust cutoffs as required. "
   ]
  },
  {
   "cell_type": "code",
   "execution_count": null,
   "metadata": {},
   "outputs": [],
   "source": [
    "#sigscores"
   ]
  },
  {
   "cell_type": "code",
   "execution_count": null,
   "metadata": {},
   "outputs": [],
   "source": [
    "sc.pl.umap(adata, color= [clusters], legend_loc='on data')"
   ]
  },
  {
   "cell_type": "markdown",
   "metadata": {},
   "source": [
    "Now each cluster gets annotated, according to the distinct levels specified in the config file. \n",
    "Note that in case a cluster is positive for multiple identities, only the first one is taken, \n",
    "in the order specified in the \"Order\" column in the config file. "
   ]
  },
  {
   "cell_type": "markdown",
   "metadata": {},
   "source": [
    "To check the given order, per levels, you can inspect levsk"
   ]
  },
  {
   "cell_type": "code",
   "execution_count": null,
   "metadata": {},
   "outputs": [],
   "source": [
    "#levsk"
   ]
  },
  {
   "cell_type": "code",
   "execution_count": null,
   "metadata": {},
   "outputs": [],
   "source": [
    "\n",
    "sigconfig.loc[\"CD8Tcell\",\"Cutoff\"]=1.2\n",
    "# RECOMPUTING SIG SCORE WITH NEW CUTOFF\n",
    "sigscores={}\n",
    "for mysig in list(df.index):\n",
    "    sigscores[mysig]=bc.tl.sig.getset(df,mysig,sigconfig.loc[mysig,'Cutoff']*myc)\n",
    "    #sigscores[mysig]=bc.tl.sig.getset(df,mysig,10)"
   ]
  },
  {
   "cell_type": "code",
   "execution_count": null,
   "metadata": {},
   "outputs": [],
   "source": [
    "cnames=bc.tl.sig.make_anno(df,sigscores,sigconfig,levsk)"
   ]
  },
  {
   "cell_type": "markdown",
   "metadata": {},
   "source": [
    "We now obtained per each cluster cell type attribution at distinct levels. "
   ]
  },
  {
   "cell_type": "code",
   "execution_count": null,
   "metadata": {},
   "outputs": [],
   "source": [
    "cnames"
   ]
  },
  {
   "cell_type": "markdown",
   "metadata": {},
   "source": [
    "Only short names were used in the signature naming convention in this case. \n",
    "One can easity tranform this to EFO terms if preferred, a conversion table comes with besca. "
   ]
  },
  {
   "cell_type": "code",
   "execution_count": null,
   "metadata": {},
   "outputs": [],
   "source": [
    "cnamesDBlabel = bc.tl.sig.obtain_dblabel(bescapath+'/besca/datasets/nomenclature/CellTypes_v1.tsv', cnames )\n",
    "cnamesDBlabel"
   ]
  },
  {
   "cell_type": "markdown",
   "metadata": {},
   "source": [
    "Finally, one can add the new labels to adata.obs as annotation. "
   ]
  },
  {
   "cell_type": "code",
   "execution_count": null,
   "metadata": {},
   "outputs": [],
   "source": [
    "adata.obs['celltype0']=bc.tl.sig.add_anno(adata,cnamesDBlabel,'celltype0',clusters)\n",
    "adata.obs['celltype2']=bc.tl.sig.add_anno(adata,cnamesDBlabel,'celltype2',clusters)\n",
    "adata.obs['celltype3']=bc.tl.sig.add_anno(adata,cnamesDBlabel,'celltype3',clusters)"
   ]
  },
  {
   "cell_type": "code",
   "execution_count": null,
   "metadata": {},
   "outputs": [],
   "source": [
    "sc.pl.umap(adata,color=['leiden','celltype2', \n",
    "                        'CD8A', 'CD8B', # CD8 T cell markers\n",
    "                        'CD4' ,    'GPR183', 'CMTM8' # CD4 t cell markers\n",
    "                       ], ncols=1) #,'celltype3'"
   ]
  },
  {
   "cell_type": "code",
   "execution_count": null,
   "metadata": {},
   "outputs": [],
   "source": [
    "sc.pl.umap(adata,color=['celltype0'])"
   ]
  },
  {
   "cell_type": "code",
   "execution_count": null,
   "metadata": {},
   "outputs": [],
   "source": [
    "sc.pl.umap(adata,color=['celltype3']) #,'celltype3'"
   ]
  },
  {
   "cell_type": "markdown",
   "metadata": {},
   "source": [
    "### Export labelling"
   ]
  },
  {
   "cell_type": "markdown",
   "metadata": {},
   "source": [
    "Chosen labels can also be exported as a new folder in labelings/"
   ]
  },
  {
   "cell_type": "code",
   "execution_count": null,
   "metadata": {},
   "outputs": [],
   "source": [
    "### Save labelling\n",
    "#adata = bc.st.additional_labeling(adata, 'celltype3', 'celltype3', 'Major cell types attributed based on HumanCD45p_scseqCMs8', 'schwalip', results_folder)\n"
   ]
  },
  {
   "cell_type": "markdown",
   "metadata": {},
   "source": [
    "# Reclustering "
   ]
  },
  {
   "cell_type": "code",
   "execution_count": null,
   "metadata": {},
   "outputs": [],
   "source": [
    "adata.obs['leiden_orginal'] = adata.obs['leiden'].copy()\n",
    "adata.obs['celltype2_original']  = adata.obs['celltype2'].copy() \n",
    "\n",
    "adata.obs['celltype3_original']  = adata.obs['celltype3'].copy() "
   ]
  },
  {
   "cell_type": "code",
   "execution_count": null,
   "metadata": {},
   "outputs": [],
   "source": [
    "adata_rc = bc.tl.rc.recluster ( adata, celltype_label = 'celltype2_original', \n",
    "                               celltype= ('CD8-positive, alpha-beta T cell','CD4-positive, alpha-beta T cell',\n",
    "                                         'cytotoxic CD56-dim natural killer cell'), resolution=1.3)"
   ]
  },
  {
   "cell_type": "code",
   "execution_count": null,
   "metadata": {},
   "outputs": [],
   "source": [
    "#adata_rc"
   ]
  },
  {
   "cell_type": "code",
   "execution_count": null,
   "metadata": {},
   "outputs": [],
   "source": [
    "sc.pl.umap( adata_rc, color = ['celltype2_original','leiden', \n",
    "                              # Some markers\n",
    "                              'CD3G', 'CD8A', 'CD4', 'IL7R', 'NKG7', 'GNLY'])"
   ]
  },
  {
   "cell_type": "markdown",
   "metadata": {},
   "source": [
    "Exporting new labelling is required to obtained the right files needed."
   ]
  },
  {
   "cell_type": "code",
   "execution_count": null,
   "metadata": {},
   "outputs": [],
   "source": [
    "adata_rc = bc.st.additional_labeling(adata_rc, 'leiden', 'Leiden_Reclustering', 'Leiden Reclustering on Lymphocytes', 'Julienla', results_folder)"
   ]
  },
  {
   "cell_type": "code",
   "execution_count": null,
   "metadata": {},
   "outputs": [],
   "source": [
    "sc.pl.umap( adata_rc, color = scores)"
   ]
  },
  {
   "cell_type": "code",
   "execution_count": null,
   "metadata": {},
   "outputs": [],
   "source": [
    "mymarkers['Ubi'] = ['B2M','ACTB', 'GAPDH'] \n",
    "clusters = 'Leiden_Reclustering'\n",
    "f=pd.read_csv(results_folder + \"/labelings/\"+clusters+\"/fract_pos.gct\",sep=\"\\t\",skiprows=2)\n",
    "df=bc.tl.sig.score_mw(f,mymarkers)\n",
    "myc=np.median(df.loc['Ubi',:]*0.5) ### Set a cutoff based on Ubi and scale with values from config file\n"
   ]
  },
  {
   "cell_type": "code",
   "execution_count": null,
   "metadata": {},
   "outputs": [],
   "source": [
    "# RECOMPUTING SIG SCORE WITH NEW CUTOFF\n",
    "df=df.drop('Ubi')\n",
    "sigscores={}\n",
    "for mysig in list(df.index):\n",
    "    sigscores[mysig]=bc.tl.sig.getset(df,mysig,sigconfig.loc[mysig,'Cutoff']*myc)\n",
    "    #sigscores[mysig]=bc.tl.sig.getset(df,mysig,10)"
   ]
  },
  {
   "cell_type": "code",
   "execution_count": null,
   "metadata": {},
   "outputs": [],
   "source": [
    "#levsk"
   ]
  },
  {
   "cell_type": "code",
   "execution_count": null,
   "metadata": {},
   "outputs": [],
   "source": [
    "toExclude = [x  for x in levsk[1] if not x == 'Tcell' and not x == 'NKcell']"
   ]
  },
  {
   "cell_type": "code",
   "execution_count": null,
   "metadata": {},
   "outputs": [],
   "source": [
    "# toExclude"
   ]
  },
  {
   "cell_type": "code",
   "execution_count": null,
   "metadata": {},
   "outputs": [],
   "source": [
    "cnames=bc.tl.sig.make_anno(df,sigscores,sigconfig,levsk)\n",
    "cnames"
   ]
  },
  {
   "cell_type": "code",
   "execution_count": null,
   "metadata": {},
   "outputs": [],
   "source": [
    "cnames=bc.tl.sig.make_anno(df,sigscores,sigconfig,levsk,  toexclude= toExclude)\n",
    "cnames"
   ]
  },
  {
   "cell_type": "code",
   "execution_count": null,
   "metadata": {},
   "outputs": [],
   "source": [
    "cnamesDBlabel = bc.tl.sig.obtain_dblabel(bescapath+'/besca/datasets/nomenclature/CellTypes_v1.tsv', cnames )\n",
    "cnamesDBlabel"
   ]
  },
  {
   "cell_type": "code",
   "execution_count": null,
   "metadata": {},
   "outputs": [],
   "source": [
    "adata_rc.obs['celltype0']=bc.tl.sig.add_anno(adata_rc,cnamesDBlabel,'celltype0','leiden')\n",
    "adata_rc.obs['celltype2']=bc.tl.sig.add_anno(adata_rc,cnamesDBlabel,'celltype2','leiden')\n",
    "adata_rc.obs['celltype3']=bc.tl.sig.add_anno(adata_rc,cnamesDBlabel,'celltype3','leiden')"
   ]
  },
  {
   "cell_type": "code",
   "execution_count": null,
   "metadata": {},
   "outputs": [],
   "source": [
    "sc.pl.umap(adata_rc,color=['celltype3', 'celltype2',\n",
    "                           'CD3G', 'CD8A', 'CD4', 'IL7R', 'NKG7', 'GNLY', #, 'S100A'\n",
    "                           'IL7R', 'SELL'\n",
    "                          ], \n",
    "           ncols=1)"
   ]
  },
  {
   "cell_type": "code",
   "execution_count": null,
   "metadata": {},
   "outputs": [],
   "source": [
    "sc.pl.umap(adata_rc,color=['celltype3',  'celltype3_original',\n",
    "                           'celltype2', 'celltype2_original'], ncols=1) "
   ]
  },
  {
   "cell_type": "code",
   "execution_count": null,
   "metadata": {},
   "outputs": [],
   "source": [
    "cnames"
   ]
  },
  {
   "cell_type": "code",
   "execution_count": null,
   "metadata": {},
   "outputs": [],
   "source": [
    "names_2 = []\n",
    "names_3 = []\n",
    "for i in range( cnames.shape[0]) :\n",
    "    # Orderigng lexo. order\n",
    "    names_2 += [cnames['celltype2'][str(i)]]\n",
    "    names_3 += [cnames['celltype3'][str(i)]]"
   ]
  },
  {
   "cell_type": "code",
   "execution_count": null,
   "metadata": {},
   "outputs": [],
   "source": [
    "bc.tl.rc.annotate_new_cellnames( adata, adata_rc, names = names_2, new_label='celltype2', method = 'leiden')\n",
    "\n",
    "bc.tl.rc.annotate_new_cellnames( adata, adata_rc, names = names_3, new_label='celltype3', method = 'leiden')\n"
   ]
  },
  {
   "cell_type": "code",
   "execution_count": null,
   "metadata": {},
   "outputs": [],
   "source": [
    "scores_selection = [\n",
    " #'score_lymphocyte_scanpy',\n",
    " 'score_myeloid_scanpy',\n",
    " 'score_Bcell_scanpy',\n",
    " 'score_Tcells_scanpy',\n",
    " 'score_CD4_scanpy',\n",
    " 'score_CD8_scanpy',\n",
    " 'score_NKcell_scanpy',\n",
    " 'score_monocyte_scanpy',\n",
    "     'score_CD4Tcell_scanpy',\n",
    " 'score_CD8Tcell_scanpy',\n",
    "'score_Tcell_scanpy',\n",
    " 'score_CD8Tcell_IL7Rmax_scanpy',\n",
    " 'score_CD4Tcell_IL7Rmax_scanpy',\n",
    " 'score_RegTcell_scanpy',\n",
    " #'score_cDC1_scanpy',\n",
    " #'score_cDC2_scanpy',\n",
    " 'score_cDC_scanpy',\n",
    "# 'score_NClassMonocyte_scanpy',\n",
    " 'score_Blymphocyte_scanpy',\n",
    " 'score_CD56dimNK_scanpy',\n",
    "    'score_CD56brightNK_scanpy',\n",
    " 'score_NaiCD4Tcell_scanpy',\n",
    " 'score_NaiCD8Tcell_scanpy',\n",
    " 'score_CMCD4Tcell_scanpy',\n",
    " 'score_EMCD8Tcell_scanpy',\n",
    " 'score_EMCD4Tcell_scanpy',\n",
    " 'score_ClassMonocyte_scanpy',\n",
    " 'score_NKTcell_scanpy',\n",
    " 'score_gdTcell_scanpy',\n",
    " 'score_CytotoxCD4Tcell_scanpy',\n",
    " 'score_CytotoxCD8Tcell_scanpy',\n",
    " 'score_ExhCD8Tcell_scanpy',\n",
    " 'score_cDC_CCR7_scanpy',\n",
    "     'score_ActTcell_scanpy',\n",
    " 'score_NaiTcell_scanpy'\n",
    "]"
   ]
  },
  {
   "cell_type": "code",
   "execution_count": null,
   "metadata": {},
   "outputs": [],
   "source": [
    "sc.pl.umap(adata_rc,color=['celltype3', 'celltype2'], ncols = 1)"
   ]
  },
  {
   "cell_type": "code",
   "execution_count": null,
   "metadata": {},
   "outputs": [],
   "source": [
    "sc.pl.umap(adata_rc,color=scores_selection, color_map = 'viridis')"
   ]
  },
  {
   "cell_type": "code",
   "execution_count": null,
   "metadata": {},
   "outputs": [],
   "source": [
    "sc.pl.umap(adata,color=scores_selection, color_map = 'viridis')"
   ]
  },
  {
   "cell_type": "code",
   "execution_count": null,
   "metadata": {},
   "outputs": [],
   "source": [
    "\n",
    "\n",
    "sc.pl.umap(adata,color=['celltype2',\n",
    "                       'celltype3'], ncols=1, alpha= 0.9, size= 30) "
   ]
  },
  {
   "cell_type": "code",
   "execution_count": null,
   "metadata": {},
   "outputs": [],
   "source": [
    "\n",
    "\n",
    "sc.pl.umap(adata,color=['celltype2', 'celltype2_original',\n",
    "                       'celltype3', 'celltype3_original'], ncols=1) "
   ]
  },
  {
   "cell_type": "code",
   "execution_count": null,
   "metadata": {},
   "outputs": [],
   "source": [
    "adata.write_h5ad('analyzed/pbmc3k_filtered/pbmc3k_processed.h5ad')"
   ]
  },
  {
   "cell_type": "code",
   "execution_count": null,
   "metadata": {},
   "outputs": [],
   "source": []
  },
  {
   "cell_type": "code",
   "execution_count": null,
   "metadata": {},
   "outputs": [],
   "source": []
  }
 ],
 "metadata": {
  "kernelspec": {
   "display_name": "Besca/besca_dev",
   "language": "python",
   "name": "besca_dev"
  },
  "language_info": {
   "codemirror_mode": {
    "name": "ipython",
    "version": 3
   },
   "file_extension": ".py",
   "mimetype": "text/x-python",
   "name": "python",
   "nbconvert_exporter": "python",
   "pygments_lexer": "ipython3",
   "version": "3.7.6"
  }
 },
 "nbformat": 4,
 "nbformat_minor": 4
}
