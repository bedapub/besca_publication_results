{
 "cells": [
  {
   "cell_type": "markdown",
   "metadata": {
    "toc": true
   },
   "source": [
    "<h1>Table of Contents<span class=\"tocSkip\"></span></h1>\n",
    "<div class=\"toc\"><ul class=\"toc-item\"></ul></div>"
   ]
  },
  {
   "cell_type": "code",
   "execution_count": 1,
   "metadata": {},
   "outputs": [
    {
     "name": "stderr",
     "output_type": "stream",
     "text": [
      "/usr/local/anaconda3/envs/besca/lib/python3.7/site-packages/anndata/_core/anndata.py:21: FutureWarning: pandas.core.index is deprecated and will be removed in a future version.  The public classes are available in the top-level namespace.\n",
      "  from pandas.core.index import RangeIndex\n",
      "/usr/local/anaconda3/envs/besca/lib/python3.7/site-packages/scanpy/api/__init__.py:6: FutureWarning: \n",
      "\n",
      "In a future version of Scanpy, `scanpy.api` will be removed.\n",
      "Simply use `import scanpy as sc` and `import scanpy.external as sce` instead.\n",
      "\n",
      "  FutureWarning,\n",
      "/usr/local/anaconda3/envs/besca/lib/python3.7/site-packages/sklearn/externals/six.py:31: FutureWarning:\n",
      "\n",
      "The module is deprecated in version 0.21 and will be removed in version 0.23 since we've dropped support for Python 2.7. Please rely on the official version of six (https://pypi.org/project/six/).\n",
      "\n"
     ]
    }
   ],
   "source": [
    "import besca as bc\n",
    "import scanpy as sc\n",
    "import pandas as pd\n",
    "import numpy as np"
   ]
  },
  {
   "cell_type": "code",
   "execution_count": 2,
   "metadata": {},
   "outputs": [],
   "source": [
    "# Set up data loading\n",
    "sample_strings = ['Duo_M1', 'Duo_M2', 'Jej_M1', 'Jej_M2', 'Il_M1', 'Il_M2']\n",
    "sample_id_strings = ['3', '4', '5', '6', '7', '8']\n",
    "file_base = './GSE92332_RAW/GSM283657'\n",
    "exp_string = '_Regional_'\n",
    "data_file_end = '_matrix.mtx.gz'\n",
    "barcode_file_end = '_barcodes.tsv.gz'\n",
    "gene_file_end = '_genes.tsv.gz'"
   ]
  },
  {
   "cell_type": "code",
   "execution_count": 3,
   "metadata": {},
   "outputs": [],
   "source": [
    "# First data set load & annotation\n",
    "#Parse Filenames\n",
    "sample = sample_strings.pop(0)\n",
    "sample_id = sample_id_strings.pop(0)\n",
    "data_file = file_base+sample_id+exp_string+sample+data_file_end\n",
    "barcode_file = file_base+sample_id+exp_string+sample+barcode_file_end\n",
    "gene_file = file_base+sample_id+exp_string+sample+gene_file_end\n",
    "\n",
    "#Load data\n",
    "adata = sc.read(data_file, cache=True)\n",
    "adata = adata.transpose()\n",
    "adata.X = adata.X.toarray()\n",
    "\n",
    "barcodes = pd.read_csv(barcode_file, header=None, sep='\\t')\n",
    "genes = pd.read_csv(gene_file, header=None, sep='\\t')\n",
    "\n",
    "#Annotate data\n",
    "barcodes.rename(columns={0:'barcode'}, inplace=True)\n",
    "barcodes.set_index('barcode', inplace=True)\n",
    "adata.obs = barcodes\n",
    "adata.obs['sample'] = [sample]*adata.n_obs\n",
    "adata.obs['region'] = [sample.split(\"_\")[0]]*adata.n_obs\n",
    "adata.obs['donor'] = [sample.split(\"_\")[1]]*adata.n_obs\n",
    "\n",
    "genes.rename(columns={0:'gene_id', 1:'gene_symbol'}, inplace=True)\n",
    "genes.set_index('gene_symbol', inplace=True)\n",
    "adata.var = genes"
   ]
  },
  {
   "cell_type": "code",
   "execution_count": 4,
   "metadata": {},
   "outputs": [
    {
     "name": "stderr",
     "output_type": "stream",
     "text": [
      "Making variable names unique for controlled concatenation.\n"
     ]
    }
   ],
   "source": [
    "# Loop to load rest of data sets\n",
    "for i in range(len(sample_strings)):\n",
    "    #Parse Filenames\n",
    "    sample = sample_strings[i]\n",
    "    sample_id = sample_id_strings[i]\n",
    "    data_file = file_base+sample_id+exp_string+sample+data_file_end\n",
    "    barcode_file = file_base+sample_id+exp_string+sample+barcode_file_end\n",
    "    gene_file = file_base+sample_id+exp_string+sample+gene_file_end\n",
    "    \n",
    "    #Load data\n",
    "    adata_tmp = sc.read(data_file, cache=True)\n",
    "    adata_tmp = adata_tmp.transpose()\n",
    "    adata_tmp.X = adata_tmp.X.toarray()\n",
    "\n",
    "    barcodes_tmp = pd.read_csv(barcode_file, header=None, sep='\\t')\n",
    "    genes_tmp = pd.read_csv(gene_file, header=None, sep='\\t')\n",
    "    \n",
    "    #Annotate data\n",
    "    barcodes_tmp.rename(columns={0:'barcode'}, inplace=True)\n",
    "    barcodes_tmp.set_index('barcode', inplace=True)\n",
    "    adata_tmp.obs = barcodes_tmp\n",
    "    adata_tmp.obs['sample'] = [sample]*adata_tmp.n_obs\n",
    "    adata_tmp.obs['region'] = [sample.split(\"_\")[0]]*adata_tmp.n_obs\n",
    "    adata_tmp.obs['donor'] = [sample.split(\"_\")[1]]*adata_tmp.n_obs\n",
    "    \n",
    "    genes_tmp.rename(columns={0:'gene_id', 1:'gene_symbol'}, inplace=True)\n",
    "    genes_tmp.set_index('gene_symbol', inplace=True)\n",
    "    adata_tmp.var = genes_tmp\n",
    "    adata_tmp.var_names_make_unique()\n",
    "\n",
    "    # Concatenate to main adata object\n",
    "    adata = adata.concatenate(adata_tmp, batch_key='sample_id')\n",
    "    #adata.var['gene_id'] = adata.var['gene_id-1'] #does an errormessage not quite clear why?\n",
    "    #adata.var.drop(columns = ['gene_id-1', 'gene_id-0'], inplace=True) #does an errormessage not quite clear why?\n",
    "    adata.obs.drop(columns=['sample_id'], inplace=True)\n",
    "    adata.obs_names = [c.split(\"-\")[0] for c in adata.obs_names]\n",
    "    adata.obs_names_make_unique(join='_')"
   ]
  },
  {
   "cell_type": "code",
   "execution_count": 5,
   "metadata": {},
   "outputs": [],
   "source": [
    "#reformat to comply with standard besca structure\n",
    "\n",
    "#Assign variable names and gene id columns\n",
    "adata.var_names = [g.split(\"_\")[1] for g in adata.var_names]\n",
    "adata.var['ENSEMBL'] = [g.split(\"_\")[1] for g in adata.var['gene_id']]\n",
    "adata.var['SYMBOL'] = adata.var.index.tolist()\n",
    "adata.var.drop(columns = 'gene_id', inplace = True)"
   ]
  },
  {
   "cell_type": "code",
   "execution_count": 6,
   "metadata": {},
   "outputs": [],
   "source": [
    "obs = pd.DataFrame({'CELL':adata.obs_names, 'CONDITION':'healthy', 'sample_type':'mouse_small_intestine_epithelial'})\n",
    "obs.index = obs.CELL\n",
    "obs = pd.concat([obs,adata.obs], axis = 1)\n",
    "adata.obs = obs"
   ]
  },
  {
   "cell_type": "code",
   "execution_count": 7,
   "metadata": {},
   "outputs": [],
   "source": [
    "#make barcodes unique to this experiment\n",
    "adata.obs.CELL = ['haber_intestine_donor_'+x +'_' + y +'.'+z for x, y, z in zip(adata.obs.donor, adata.obs.region, adata.obs.CELL)]\n",
    "adata.obs.index = adata.obs.CELL.tolist()\n",
    "adata.obs_names = adata.obs.index.tolist()"
   ]
  },
  {
   "cell_type": "code",
   "execution_count": 8,
   "metadata": {},
   "outputs": [
    {
     "name": "stdout",
     "output_type": "stream",
     "text": [
      "Duo    4554\n",
      "Jej    4496\n",
      "Il     4303\n",
      "Name: region, dtype: int64\n",
      "\n",
      "M2    6711\n",
      "M1    6642\n",
      "Name: donor, dtype: int64\n",
      "\n",
      "Jej_M2    2668\n",
      "Il_M1     2466\n",
      "Duo_M1    2348\n",
      "Duo_M2    2206\n",
      "Il_M2     1837\n",
      "Jej_M1    1828\n",
      "Name: sample, dtype: int64\n"
     ]
    }
   ],
   "source": [
    "# Annotate the data sets\n",
    "print(adata.obs['region'].value_counts())\n",
    "print('')\n",
    "print(adata.obs['donor'].value_counts())\n",
    "print('')\n",
    "print(adata.obs['sample'].value_counts())"
   ]
  },
  {
   "cell_type": "code",
   "execution_count": 134,
   "metadata": {},
   "outputs": [
    {
     "data": {
      "text/html": [
       "<div>\n",
       "<style scoped>\n",
       "    .dataframe tbody tr th:only-of-type {\n",
       "        vertical-align: middle;\n",
       "    }\n",
       "\n",
       "    .dataframe tbody tr th {\n",
       "        vertical-align: top;\n",
       "    }\n",
       "\n",
       "    .dataframe thead th {\n",
       "        text-align: right;\n",
       "    }\n",
       "</style>\n",
       "<table border=\"1\" class=\"dataframe\">\n",
       "  <thead>\n",
       "    <tr style=\"text-align: right;\">\n",
       "      <th></th>\n",
       "      <th>CELL</th>\n",
       "      <th>CONDITION</th>\n",
       "      <th>sample_type</th>\n",
       "      <th>donor</th>\n",
       "      <th>region</th>\n",
       "      <th>sample</th>\n",
       "    </tr>\n",
       "  </thead>\n",
       "  <tbody>\n",
       "    <tr>\n",
       "      <th>haber_intestine_donor_M1_Duo.AAACATACAGCGGA</th>\n",
       "      <td>haber_intestine_donor_M1_Duo.AAACATACAGCGGA</td>\n",
       "      <td>healthy</td>\n",
       "      <td>mouse_small_intestine_epithelial</td>\n",
       "      <td>M1</td>\n",
       "      <td>Duo</td>\n",
       "      <td>Duo_M1</td>\n",
       "    </tr>\n",
       "    <tr>\n",
       "      <th>haber_intestine_donor_M1_Duo.AAACATACCTTACT</th>\n",
       "      <td>haber_intestine_donor_M1_Duo.AAACATACCTTACT</td>\n",
       "      <td>healthy</td>\n",
       "      <td>mouse_small_intestine_epithelial</td>\n",
       "      <td>M1</td>\n",
       "      <td>Duo</td>\n",
       "      <td>Duo_M1</td>\n",
       "    </tr>\n",
       "    <tr>\n",
       "      <th>haber_intestine_donor_M1_Duo.AAACATACTTTGCT</th>\n",
       "      <td>haber_intestine_donor_M1_Duo.AAACATACTTTGCT</td>\n",
       "      <td>healthy</td>\n",
       "      <td>mouse_small_intestine_epithelial</td>\n",
       "      <td>M1</td>\n",
       "      <td>Duo</td>\n",
       "      <td>Duo_M1</td>\n",
       "    </tr>\n",
       "    <tr>\n",
       "      <th>haber_intestine_donor_M1_Duo.AAACCGTGCAGTCA</th>\n",
       "      <td>haber_intestine_donor_M1_Duo.AAACCGTGCAGTCA</td>\n",
       "      <td>healthy</td>\n",
       "      <td>mouse_small_intestine_epithelial</td>\n",
       "      <td>M1</td>\n",
       "      <td>Duo</td>\n",
       "      <td>Duo_M1</td>\n",
       "    </tr>\n",
       "    <tr>\n",
       "      <th>haber_intestine_donor_M1_Duo.AAACGCTGCAGTCA</th>\n",
       "      <td>haber_intestine_donor_M1_Duo.AAACGCTGCAGTCA</td>\n",
       "      <td>healthy</td>\n",
       "      <td>mouse_small_intestine_epithelial</td>\n",
       "      <td>M1</td>\n",
       "      <td>Duo</td>\n",
       "      <td>Duo_M1</td>\n",
       "    </tr>\n",
       "  </tbody>\n",
       "</table>\n",
       "</div>"
      ],
      "text/plain": [
       "                                                                                    CELL  \\\n",
       "haber_intestine_donor_M1_Duo.AAACATACAGCGGA  haber_intestine_donor_M1_Duo.AAACATACAGCGGA   \n",
       "haber_intestine_donor_M1_Duo.AAACATACCTTACT  haber_intestine_donor_M1_Duo.AAACATACCTTACT   \n",
       "haber_intestine_donor_M1_Duo.AAACATACTTTGCT  haber_intestine_donor_M1_Duo.AAACATACTTTGCT   \n",
       "haber_intestine_donor_M1_Duo.AAACCGTGCAGTCA  haber_intestine_donor_M1_Duo.AAACCGTGCAGTCA   \n",
       "haber_intestine_donor_M1_Duo.AAACGCTGCAGTCA  haber_intestine_donor_M1_Duo.AAACGCTGCAGTCA   \n",
       "\n",
       "                                            CONDITION  \\\n",
       "haber_intestine_donor_M1_Duo.AAACATACAGCGGA   healthy   \n",
       "haber_intestine_donor_M1_Duo.AAACATACCTTACT   healthy   \n",
       "haber_intestine_donor_M1_Duo.AAACATACTTTGCT   healthy   \n",
       "haber_intestine_donor_M1_Duo.AAACCGTGCAGTCA   healthy   \n",
       "haber_intestine_donor_M1_Duo.AAACGCTGCAGTCA   healthy   \n",
       "\n",
       "                                                                  sample_type  \\\n",
       "haber_intestine_donor_M1_Duo.AAACATACAGCGGA  mouse_small_intestine_epithelial   \n",
       "haber_intestine_donor_M1_Duo.AAACATACCTTACT  mouse_small_intestine_epithelial   \n",
       "haber_intestine_donor_M1_Duo.AAACATACTTTGCT  mouse_small_intestine_epithelial   \n",
       "haber_intestine_donor_M1_Duo.AAACCGTGCAGTCA  mouse_small_intestine_epithelial   \n",
       "haber_intestine_donor_M1_Duo.AAACGCTGCAGTCA  mouse_small_intestine_epithelial   \n",
       "\n",
       "                                            donor region  sample  \n",
       "haber_intestine_donor_M1_Duo.AAACATACAGCGGA    M1    Duo  Duo_M1  \n",
       "haber_intestine_donor_M1_Duo.AAACATACCTTACT    M1    Duo  Duo_M1  \n",
       "haber_intestine_donor_M1_Duo.AAACATACTTTGCT    M1    Duo  Duo_M1  \n",
       "haber_intestine_donor_M1_Duo.AAACCGTGCAGTCA    M1    Duo  Duo_M1  \n",
       "haber_intestine_donor_M1_Duo.AAACGCTGCAGTCA    M1    Duo  Duo_M1  "
      ]
     },
     "execution_count": 134,
     "metadata": {},
     "output_type": "execute_result"
    }
   ],
   "source": [
    "adata.obs.head()"
   ]
  },
  {
   "cell_type": "code",
   "execution_count": 135,
   "metadata": {},
   "outputs": [],
   "source": [
    "#import public dataset annotation\n",
    "labels = pd.read_csv('./atlas_metadata.txt', sep = '\\t').drop(0)"
   ]
  },
  {
   "cell_type": "code",
   "execution_count": 136,
   "metadata": {},
   "outputs": [
    {
     "data": {
      "text/html": [
       "<div>\n",
       "<style scoped>\n",
       "    .dataframe tbody tr th:only-of-type {\n",
       "        vertical-align: middle;\n",
       "    }\n",
       "\n",
       "    .dataframe tbody tr th {\n",
       "        vertical-align: top;\n",
       "    }\n",
       "\n",
       "    .dataframe thead th {\n",
       "        text-align: right;\n",
       "    }\n",
       "</style>\n",
       "<table border=\"1\" class=\"dataframe\">\n",
       "  <thead>\n",
       "    <tr style=\"text-align: right;\">\n",
       "      <th></th>\n",
       "      <th>NAME</th>\n",
       "      <th>Mouse</th>\n",
       "      <th>Cluster</th>\n",
       "      <th>nGene</th>\n",
       "      <th>Cell-cycle</th>\n",
       "      <th>Region</th>\n",
       "      <th>Condition</th>\n",
       "    </tr>\n",
       "  </thead>\n",
       "  <tbody>\n",
       "    <tr>\n",
       "      <th>1</th>\n",
       "      <td>AAACATTGTTTGGG_M1</td>\n",
       "      <td>M1</td>\n",
       "      <td>Enterocyte.Immature.Distal</td>\n",
       "      <td>1829</td>\n",
       "      <td>-0.18015439</td>\n",
       "      <td>NaN</td>\n",
       "      <td>NaN</td>\n",
       "    </tr>\n",
       "    <tr>\n",
       "      <th>2</th>\n",
       "      <td>AAACCGTGCCAAGT_M1</td>\n",
       "      <td>M1</td>\n",
       "      <td>Tuft</td>\n",
       "      <td>1305</td>\n",
       "      <td>0.065477717</td>\n",
       "      <td>NaN</td>\n",
       "      <td>NaN</td>\n",
       "    </tr>\n",
       "    <tr>\n",
       "      <th>3</th>\n",
       "      <td>AAACGCACAGCCTA_M1</td>\n",
       "      <td>M1</td>\n",
       "      <td>Goblet</td>\n",
       "      <td>2215</td>\n",
       "      <td>-0.292703976</td>\n",
       "      <td>NaN</td>\n",
       "      <td>NaN</td>\n",
       "    </tr>\n",
       "    <tr>\n",
       "      <th>4</th>\n",
       "      <td>AAACGCACCAGATC_M1</td>\n",
       "      <td>M1</td>\n",
       "      <td>Enteroendocrine</td>\n",
       "      <td>2789</td>\n",
       "      <td>-0.332670356</td>\n",
       "      <td>NaN</td>\n",
       "      <td>NaN</td>\n",
       "    </tr>\n",
       "    <tr>\n",
       "      <th>5</th>\n",
       "      <td>AAACGCACCGCCTT_M1</td>\n",
       "      <td>M1</td>\n",
       "      <td>Stem</td>\n",
       "      <td>2094</td>\n",
       "      <td>-0.168716659</td>\n",
       "      <td>NaN</td>\n",
       "      <td>NaN</td>\n",
       "    </tr>\n",
       "    <tr>\n",
       "      <th>...</th>\n",
       "      <td>...</td>\n",
       "      <td>...</td>\n",
       "      <td>...</td>\n",
       "      <td>...</td>\n",
       "      <td>...</td>\n",
       "      <td>...</td>\n",
       "      <td>...</td>\n",
       "    </tr>\n",
       "    <tr>\n",
       "      <th>28719</th>\n",
       "      <td>B10_TTTCACGACAAGCT_Salmonella_TA</td>\n",
       "      <td>Salm_2</td>\n",
       "      <td>TA</td>\n",
       "      <td>1234</td>\n",
       "      <td>-0.0668674247083511</td>\n",
       "      <td>NaN</td>\n",
       "      <td>Salmonella</td>\n",
       "    </tr>\n",
       "    <tr>\n",
       "      <th>28720</th>\n",
       "      <td>B10_TTTCAGTGAGGCGA_Salmonella_Enterocyte</td>\n",
       "      <td>Salm_2</td>\n",
       "      <td>Enterocyte</td>\n",
       "      <td>2099</td>\n",
       "      <td>0.151407420185812</td>\n",
       "      <td>NaN</td>\n",
       "      <td>Salmonella</td>\n",
       "    </tr>\n",
       "    <tr>\n",
       "      <th>28721</th>\n",
       "      <td>B10_TTTCAGTGCGACAT_Salmonella_Stem</td>\n",
       "      <td>Salm_2</td>\n",
       "      <td>Stem</td>\n",
       "      <td>1596</td>\n",
       "      <td>0.0477913721881939</td>\n",
       "      <td>NaN</td>\n",
       "      <td>Salmonella</td>\n",
       "    </tr>\n",
       "    <tr>\n",
       "      <th>28722</th>\n",
       "      <td>B10_TTTCAGTGTGACCA_Salmonella_Endocrine</td>\n",
       "      <td>Salm_2</td>\n",
       "      <td>Endocrine</td>\n",
       "      <td>2966</td>\n",
       "      <td>0.188539206418603</td>\n",
       "      <td>NaN</td>\n",
       "      <td>Salmonella</td>\n",
       "    </tr>\n",
       "    <tr>\n",
       "      <th>28723</th>\n",
       "      <td>B10_TTTCAGTGTTCTCA_Salmonella_Enterocyte.Proge...</td>\n",
       "      <td>Salm_2</td>\n",
       "      <td>Enterocyte.Progenitor</td>\n",
       "      <td>1329</td>\n",
       "      <td>-0.141117544181981</td>\n",
       "      <td>NaN</td>\n",
       "      <td>Salmonella</td>\n",
       "    </tr>\n",
       "  </tbody>\n",
       "</table>\n",
       "<p>28723 rows × 7 columns</p>\n",
       "</div>"
      ],
      "text/plain": [
       "                                                    NAME   Mouse  \\\n",
       "1                                      AAACATTGTTTGGG_M1      M1   \n",
       "2                                      AAACCGTGCCAAGT_M1      M1   \n",
       "3                                      AAACGCACAGCCTA_M1      M1   \n",
       "4                                      AAACGCACCAGATC_M1      M1   \n",
       "5                                      AAACGCACCGCCTT_M1      M1   \n",
       "...                                                  ...     ...   \n",
       "28719                   B10_TTTCACGACAAGCT_Salmonella_TA  Salm_2   \n",
       "28720           B10_TTTCAGTGAGGCGA_Salmonella_Enterocyte  Salm_2   \n",
       "28721                 B10_TTTCAGTGCGACAT_Salmonella_Stem  Salm_2   \n",
       "28722            B10_TTTCAGTGTGACCA_Salmonella_Endocrine  Salm_2   \n",
       "28723  B10_TTTCAGTGTTCTCA_Salmonella_Enterocyte.Proge...  Salm_2   \n",
       "\n",
       "                          Cluster nGene           Cell-cycle Region  \\\n",
       "1      Enterocyte.Immature.Distal  1829          -0.18015439    NaN   \n",
       "2                            Tuft  1305          0.065477717    NaN   \n",
       "3                          Goblet  2215         -0.292703976    NaN   \n",
       "4                 Enteroendocrine  2789         -0.332670356    NaN   \n",
       "5                            Stem  2094         -0.168716659    NaN   \n",
       "...                           ...   ...                  ...    ...   \n",
       "28719                          TA  1234  -0.0668674247083511    NaN   \n",
       "28720                  Enterocyte  2099    0.151407420185812    NaN   \n",
       "28721                        Stem  1596   0.0477913721881939    NaN   \n",
       "28722                   Endocrine  2966    0.188539206418603    NaN   \n",
       "28723       Enterocyte.Progenitor  1329   -0.141117544181981    NaN   \n",
       "\n",
       "        Condition  \n",
       "1             NaN  \n",
       "2             NaN  \n",
       "3             NaN  \n",
       "4             NaN  \n",
       "5             NaN  \n",
       "...           ...  \n",
       "28719  Salmonella  \n",
       "28720  Salmonella  \n",
       "28721  Salmonella  \n",
       "28722  Salmonella  \n",
       "28723  Salmonella  \n",
       "\n",
       "[28723 rows x 7 columns]"
      ]
     },
     "execution_count": 136,
     "metadata": {},
     "output_type": "execute_result"
    }
   ],
   "source": [
    "labels"
   ]
  },
  {
   "cell_type": "code",
   "execution_count": 137,
   "metadata": {},
   "outputs": [],
   "source": [
    "#make annotation congruent with adata\n",
    "labels = labels.replace({'m1': 'M1', 'm2':'M2', 'Jejunum': 'Jej', 'Ileum':'Il', 'Duodenum':'Duo'})"
   ]
  },
  {
   "cell_type": "code",
   "execution_count": 138,
   "metadata": {},
   "outputs": [
    {
     "data": {
      "text/plain": [
       "Jej    3970\n",
       "Il     3927\n",
       "Duo    3768\n",
       "Name: Region, dtype: int64"
      ]
     },
     "execution_count": 138,
     "metadata": {},
     "output_type": "execute_result"
    }
   ],
   "source": [
    "labels.Region.value_counts()"
   ]
  },
  {
   "cell_type": "code",
   "execution_count": 139,
   "metadata": {},
   "outputs": [
    {
     "name": "stderr",
     "output_type": "stream",
     "text": [
      "/usr/local/anaconda3/envs/besca/lib/python3.7/site-packages/ipykernel_launcher.py:5: SettingWithCopyWarning:\n",
      "\n",
      "\n",
      "A value is trying to be set on a copy of a slice from a DataFrame.\n",
      "Try using .loc[row_indexer,col_indexer] = value instead\n",
      "\n",
      "See the caveats in the documentation: https://pandas.pydata.org/pandas-docs/stable/user_guide/indexing.html#returning-a-view-versus-a-copy\n",
      "\n"
     ]
    }
   ],
   "source": [
    "#extract cells contained within this dataset\n",
    "labels_regions = labels[[x in ['Jej', 'Il','Duo'] for x in labels.Region.tolist()]]\n",
    "\n",
    "#reformat barcodes to match unique ones generated above\n",
    "labels_regions['CELL'] = ['haber_intestine_donor_'+ mouse + '_' +region+ '.' + x.split('_')[0] for mouse, region, x in zip(labels_regions.Mouse.tolist(), labels_regions.Region.tolist(), labels_regions.NAME.tolist())]\n",
    "labels_regions.index = labels_regions.CELL"
   ]
  },
  {
   "cell_type": "code",
   "execution_count": 140,
   "metadata": {},
   "outputs": [],
   "source": [
    "#get annotation\n",
    "annotation = labels_regions.Cluster.to_frame()\n",
    "annotation.columns = ['celltype_haber']\n",
    "\n",
    "#extract barcodes of interest\n",
    "merged = pd.merge(adata.obs, annotation, left_index = True, right_index = True)\n",
    "\n",
    "#annotate cells\n",
    "adata.obs['celltype_haber'] = [merged.loc[x, 'celltype_haber'] if x in merged.CELL.tolist() else'not determined'for x in adata.obs.CELL.tolist()]"
   ]
  },
  {
   "cell_type": "code",
   "execution_count": 141,
   "metadata": {},
   "outputs": [
    {
     "name": "stdout",
     "output_type": "stream",
     "text": [
      "not determined     9469\n",
      "Stem               1143\n",
      "Goblet              898\n",
      "EP                  640\n",
      "Enterocyte          563\n",
      "TA                  266\n",
      "Paneth              203\n",
      "Enteroendocrine      92\n",
      "Tuft                 79\n",
      "Name: celltype_haber, dtype: int64\n",
      "\n",
      "Il     3873\n",
      "Duo      11\n",
      "Name: region, dtype: int64\n"
     ]
    }
   ],
   "source": [
    "print(adata.obs.celltype_haber.value_counts())\n",
    "print('')\n",
    "print(merged.region.value_counts())"
   ]
  },
  {
   "cell_type": "code",
   "execution_count": 142,
   "metadata": {},
   "outputs": [
    {
     "name": "stdout",
     "output_type": "stream",
     "text": [
      "writing out matrix.mtx ...\n",
      "adata.X successfully written to matrix.mtx. \n",
      " Warning: could not use reformat script.\n",
      "genes successfully written out to genes.tsv\n",
      "cellbarcodes successfully written out to barcodes.tsv\n",
      "annotation successfully written out to metadata.tsv\n"
     ]
    }
   ],
   "source": [
    "bc.export.X_to_mtx(adata=adata, outpath = './raw', write_metadata = True )"
   ]
  }
 ],
 "metadata": {
  "kernelspec": {
   "display_name": "besca",
   "language": "python",
   "name": "besca"
  },
  "language_info": {
   "codemirror_mode": {
    "name": "ipython",
    "version": 3
   },
   "file_extension": ".py",
   "mimetype": "text/x-python",
   "name": "python",
   "nbconvert_exporter": "python",
   "pygments_lexer": "ipython3",
   "version": "3.7.6"
  },
  "toc": {
   "base_numbering": 1,
   "nav_menu": {},
   "number_sections": true,
   "sideBar": true,
   "skip_h1_title": false,
   "title_cell": "Table of Contents",
   "title_sidebar": "Contents",
   "toc_cell": true,
   "toc_position": {},
   "toc_section_display": true,
   "toc_window_display": true
  }
 },
 "nbformat": 4,
 "nbformat_minor": 2
}
